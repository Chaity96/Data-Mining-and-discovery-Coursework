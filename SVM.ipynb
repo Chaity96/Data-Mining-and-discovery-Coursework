{
 "cells": [
  {
   "cell_type": "code",
   "execution_count": 3,
   "id": "be4ed900",
   "metadata": {},
   "outputs": [],
   "source": []
  },
  {
   "cell_type": "code",
   "execution_count": 18,
   "id": "5fc10b88",
   "metadata": {},
   "outputs": [
    {
     "data": {
      "image/png": "[encoded data removed]",
      "text/plain": [
       "<Figure size 432x288 with 1 Axes>"
      ]
     },
     "metadata": {},
     "output_type": "display_data"
    },
    {
     "name": "stdout",
     "output_type": "stream",
     "text": [
      "***** Train Dataset Length *****\n",
      "455\n",
      "\n",
      "***** Test Dataset Length *****\n",
      "114\n",
      "Support Vector Machine\n",
      "Accuracy :  0.9210526315789473\n"
     ]
    },
    {
     "data": {
      "image/png": "[encoded data removed]",
      "text/plain": [
       "<Figure size 432x288 with 1 Axes>"
      ]
     },
     "metadata": {
      "needs_background": "light"
     },
     "output_type": "display_data"
    }
   ],
   "source": [
    "import pandas as pd\n",
    "import numpy as np\n",
    "import pandas as pd\n",
    "import numpy as np\n",
    "import matplotlib.pyplot as plt\n",
    "from sklearn import svm\n",
    "from sklearn.metrics import accuracy_score\n",
    "from sklearn.preprocessing import LabelEncoder\n",
    "from sklearn.model_selection import train_test_split\n",
    "from sklearn.metrics import confusion_matrix\n",
    "from sklearn.datasets import load_breast_cancer\n",
    "\n",
    "def load_dataset():\n",
    "    \"\"\"Load the breast cancer dataset\"\"\"\n",
    "    data = load_breast_cancer()\n",
    "    X = data.data\n",
    "    y = data.target\n",
    "    return X, y\n",
    "\n",
    "# Load the dataset\n",
    "X, Y = load_dataset()\n",
    "    \n",
    "def plot_pie_chart(data):\n",
    "    \"\"\"\n",
    "    This function creates a pie chart visualizing the proportion of benign and malignant cases in the breast cancer dataset\n",
    "    \"\"\"\n",
    "    # Count the number of benign and malignant cases\n",
    "    benign_count = len(data[data==0])\n",
    "    malignant_count = len(data[data==1])\n",
    "\n",
    "    # Create a list of the counts\n",
    "    counts = [benign_count, malignant_count]\n",
    "\n",
    "    # Create a list of the labels\n",
    "    labels = ['Benign', 'Malignant']\n",
    "\n",
    "    # Create the pie chart\n",
    "    plt.pie(counts, labels=labels, autopct='%1.1f%%',colors=['#ff9999','#66b3ff'],textprops={'fontsize': 13})\n",
    "    plt.title('Benign and Malignant Cases', fontsize=18)\n",
    "    plt.show()\n",
    "    \n",
    "plot_pie_chart(y)    \n",
    "    \n",
    "def train_test_split_data(X,Y):\n",
    "    \"\"\"Splits the dataset into training and test sets\"\"\"\n",
    "    X_train, X_test, Y_train, Y_test = train_test_split(X, Y, test_size=0.20, random_state=41, stratify=Y)\n",
    "\n",
    "    print(\"***** Train Dataset Length *****\")\n",
    "    print(len(X_train))\n",
    "    print(\"\\n***** Test Dataset Length *****\")\n",
    "    print(len(X_test))\n",
    "    \n",
    "    return X_train, X_test, Y_train, Y_test\n",
    "\n",
    "\n",
    "# Split the dataset into train and test sets\n",
    "X_train, X_test, Y_train, Y_test = train_test_split_data(X,Y)    \n",
    "\n",
    "\n",
    "def apply_SVM_model(X_train, Y_train, X_test):\n",
    "    \"\"\"\n",
    "    This function applies a Support Vector Machine (SVM) model on the given training and test data.\n",
    "    It then returns the predicted values for the test data.\n",
    "    \"\"\"\n",
    "    s = svm.SVC()\n",
    "    s.fit(X_train, Y_train)\n",
    "    Y_pred = s.predict(X_test)\n",
    "\n",
    "    print(\"Support Vector Machine\")\n",
    "    return Y_pred\n",
    "\n",
    "\n",
    "Y_pred = apply_SVM_model(X_train, Y_train, X_test)\n",
    "\n",
    "# calculating the accuracy of the model\n",
    "ac_s = accuracy_score(Y_pred, Y_test)\n",
    "print(\"Accuracy : \", ac_s)\n",
    "\n",
    "\n",
    "\n",
    "def confusion_matrix_graph(Y_pred, Y_test):\n",
    "    \"\"\"\n",
    "    This function creates a heatmap visualizing the confusion matrix\n",
    "    between the predicted and actual values.\n",
    "    \"\"\"\n",
    "    cm = confusion_matrix(list(Y_pred),list(Y_test))\n",
    "    fig, ax = plt.subplots()\n",
    "    ax.imshow(cm, cmap='Reds')\n",
    "    ax.set_xticks([0, 1])\n",
    "    ax.set_yticks([0, 1])\n",
    "    ax.set_xticklabels(['class 0', 'class 1'])\n",
    "    ax.set_yticklabels(['class 0', 'class 1'])\n",
    "    ax.set_xlabel('Predicted', fontsize=14)\n",
    "    ax.set_ylabel('Actual', fontsize=14)\n",
    "    for i in range(len(cm)):\n",
    "        for j in range(len(cm[i])):\n",
    "            ax.text(j, i, cm[i][j], ha='center', va='center', color='black')\n",
    "    plt.show()\n",
    "\n",
    "\n",
    "\n",
    "confusion_matrix_graph(Y_pred, Y_test)\n"
   ]
  },
  {
   "cell_type": "code",
   "execution_count": null,
   "id": "59df81a5",
   "metadata": {},
   "outputs": [],
   "source": []
  },
  {
   "cell_type": "code",
   "execution_count": null,
   "id": "682ef056",
   "metadata": {},
   "outputs": [],
   "source": []
  },
  {
   "cell_type": "code",
   "execution_count": null,
   "id": "16e3b75f",
   "metadata": {},
   "outputs": [],
   "source": []
  },
  {
   "cell_type": "code",
   "execution_count": null,
   "id": "3fadc47b",
   "metadata": {},
   "outputs": [],
   "source": []
  },
  {
   "cell_type": "code",
   "execution_count": null,
   "id": "3e10b272",
   "metadata": {},
   "outputs": [],
   "source": []
  }
 ],
 "metadata": {
  "kernelspec": {
   "display_name": "Python 3 (ipykernel)",
   "language": "python",
   "name": "python3"
  },
  "language_info": {
   "codemirror_mode": {
    "name": "ipython",
    "version": 3
   },
   "file_extension": ".py",
   "mimetype": "text/x-python",
   "name": "python",
   "nbconvert_exporter": "python",
   "pygments_lexer": "ipython3",
   "version": "3.9.13"
  }
 },
 "nbformat": 4,
 "nbformat_minor": 5
}
